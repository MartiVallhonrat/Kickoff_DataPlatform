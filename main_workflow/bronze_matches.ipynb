{
 "cells": [
  {
   "cell_type": "code",
   "execution_count": 0,
   "metadata": {
    "application/vnd.databricks.v1+cell": {
     "cellMetadata": {
      "byteLimit": 2048000,
      "rowLimit": 10000
     },
     "inputWidgets": {},
     "nuid": "1c5f0337-e68f-46a6-ab15-ddaa422e9e9d",
     "showTitle": true,
     "tableResultSettingsMap": {},
     "title": "Declare Schemas"
    }
   },
   "outputs": [],
   "source": [
    "from pyspark.sql.types import StructType, StructField, StringType, LongType, ArrayType\n",
    "\n",
    "competition_schema = StructType([\n",
    "    StructField(\"code\", StringType(), True),\n",
    "    StructField(\"emblem\", StringType(), True),\n",
    "    StructField(\"id\", LongType(), True),\n",
    "    StructField(\"name\", StringType(), True),\n",
    "    StructField(\"type\", StringType(), True)\n",
    "])\n",
    "\n",
    "filters_schema = StructType([\n",
    "    StructField(\"season\", LongType(), True),\n",
    "    StructField(\"status\", ArrayType(StringType()), True)\n",
    "])\n",
    "\n",
    "area_schema = StructType([\n",
    "    StructField(\"code\", StringType(), True),\n",
    "    StructField(\"flag\", StringType(), True),\n",
    "    StructField(\"id\", LongType(), True),\n",
    "    StructField(\"name\", StringType(), True)\n",
    "])\n",
    "\n",
    "referee_schema = StructType([\n",
    "    StructField(\"id\", LongType(), True),\n",
    "    StructField(\"name\", StringType(), True),\n",
    "    StructField(\"nationality\", StringType(), True),\n",
    "    StructField(\"type\", StringType(), True)\n",
    "])\n",
    "\n",
    "score_substruct = StructType([\n",
    "    StructField(\"away\", LongType(), True),\n",
    "    StructField(\"home\", LongType(), True)\n",
    "])\n",
    "\n",
    "score_schema = StructType([\n",
    "    StructField(\"duration\", StringType(), True),\n",
    "    StructField(\"fullTime\", score_substruct, True),\n",
    "    StructField(\"halfTime\", score_substruct, True),\n",
    "    StructField(\"winner\", StringType(), True)\n",
    "])\n",
    "\n",
    "match_season_schema = StructType([\n",
    "    StructField(\"currentMatchday\", LongType(), True),\n",
    "    StructField(\"endDate\", StringType(), True),\n",
    "    StructField(\"id\", LongType(), True),\n",
    "    StructField(\"startDate\", StringType(), True),\n",
    "    StructField(\"winner\", StringType(), True)\n",
    "])\n",
    "\n",
    "match_schema = StructType([\n",
    "    StructField(\"area\", area_schema, True),\n",
    "    StructField(\"awayTeam_id\", LongType(), True),\n",
    "    StructField(\"competition\", competition_schema, True),\n",
    "    StructField(\"group\", StringType(), True),\n",
    "    StructField(\"homeTeam_id\", LongType(), True),\n",
    "    StructField(\"id\", LongType(), True),\n",
    "    StructField(\"lastUpdated\", StringType(), True),\n",
    "    StructField(\"matchday\", LongType(), True),\n",
    "    StructField(\"odds\", StructType([StructField(\"msg\", StringType(), True)]), True),\n",
    "    StructField(\"referees\", ArrayType(referee_schema), True),\n",
    "    StructField(\"score\", score_schema, True),\n",
    "    StructField(\"season\", match_season_schema, True),\n",
    "    StructField(\"stage\", StringType(), True),\n",
    "    StructField(\"status\", StringType(), True),\n",
    "    StructField(\"utcDate\", StringType(), True)\n",
    "])\n",
    "\n",
    "result_set_schema = StructType([\n",
    "    StructField(\"count\", LongType(), True),\n",
    "    StructField(\"first\", StringType(), True),\n",
    "    StructField(\"last\", StringType(), True),\n",
    "    StructField(\"played\", LongType(), True)\n",
    "])\n",
    "\n",
    "root_schema = StructType([\n",
    "    StructField(\"competition\", competition_schema, True),\n",
    "    StructField(\"filters\", filters_schema, True),\n",
    "    StructField(\"matches\", ArrayType(match_schema), True),\n",
    "    StructField(\"resultSet\", result_set_schema, True)\n",
    "])"
   ]
  },
  {
   "cell_type": "code",
   "execution_count": 0,
   "metadata": {
    "application/vnd.databricks.v1+cell": {
     "cellMetadata": {
      "byteLimit": 2048000,
      "rowLimit": 10000
     },
     "inputWidgets": {},
     "nuid": "4ed8a365-e337-45e7-9b4d-6b234310dd5f",
     "showTitle": true,
     "tableResultSettingsMap": {},
     "title": "Read json matches"
    }
   },
   "outputs": [],
   "source": [
    "df_bronze = (\n",
    "    spark\n",
    "    .read\n",
    "    .format('json')\n",
    "    .schema(root_schema)\n",
    "    .load('/Volumes/workspace/default/kickoff_volume/matches.json')\n",
    ")\n",
    "\n",
    "df_bronze.printSchema()\n",
    "display(df_bronze.limit(10))"
   ]
  },
  {
   "cell_type": "code",
   "execution_count": 0,
   "metadata": {
    "application/vnd.databricks.v1+cell": {
     "cellMetadata": {
      "byteLimit": 2048000,
      "rowLimit": 10000
     },
     "inputWidgets": {},
     "nuid": "178cfcee-ad61-41e6-a64c-67be09dded49",
     "showTitle": true,
     "tableResultSettingsMap": {},
     "title": "Save raw_matches DataFrame"
    }
   },
   "outputs": [],
   "source": [
    "df_bronze.write.mode('overwrite').option('overwriteSchema', 'true').saveAsTable('raw_matches')"
   ]
  }
 ],
 "metadata": {
  "application/vnd.databricks.v1+notebook": {
   "computePreferences": null,
   "dashboards": [],
   "environmentMetadata": {
    "base_environment": "",
    "environment_version": "3"
   },
   "inputWidgetPreferences": null,
   "language": "python",
   "notebookMetadata": {
    "pythonIndentUnit": 4
   },
   "notebookName": "bronze_matches",
   "widgets": {}
  },
  "language_info": {
   "name": "python"
  }
 },
 "nbformat": 4,
 "nbformat_minor": 0
}
