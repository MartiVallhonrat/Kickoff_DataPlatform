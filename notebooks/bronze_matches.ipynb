{
 "cells": [
  {
   "cell_type": "code",
   "execution_count": 0,
   "metadata": {
    "application/vnd.databricks.v1+cell": {
     "cellMetadata": {
      "byteLimit": 2048000,
      "rowLimit": 10000
     },
     "inputWidgets": {},
     "nuid": "8009ce99-fab3-4b19-b1d0-a5b026dc28b4",
     "showTitle": true,
     "tableResultSettingsMap": {},
     "title": "Install dotenv"
    }
   },
   "outputs": [],
   "source": [
    "%pip install python-dotenv"
   ]
  },
  {
   "cell_type": "code",
   "execution_count": 0,
   "metadata": {
    "application/vnd.databricks.v1+cell": {
     "cellMetadata": {
      "byteLimit": 2048000,
      "rowLimit": 10000
     },
     "inputWidgets": {},
     "nuid": "0bd0df0b-6b75-4bf2-83f2-6b0c30c2a686",
     "showTitle": true,
     "tableResultSettingsMap": {},
     "title": "Restart Python"
    }
   },
   "outputs": [],
   "source": [
    "dbutils.library.restartPython()"
   ]
  },
  {
   "cell_type": "code",
   "execution_count": 0,
   "metadata": {
    "application/vnd.databricks.v1+cell": {
     "cellMetadata": {
      "byteLimit": 2048000,
      "rowLimit": 10000
     },
     "inputWidgets": {},
     "nuid": "1605d2d2-e17a-45d1-9054-a5672a3a3b3f",
     "showTitle": true,
     "tableResultSettingsMap": {},
     "title": "Fetch API"
    }
   },
   "outputs": [],
   "source": [
    "from dotenv import load_dotenv\n",
    "import os\n",
    "import requests\n",
    "import json\n",
    "\n",
    "def fetch_matches():\n",
    "    load_dotenv('../.env')\n",
    "\n",
    "    headers = { 'X-Auth-Token': os.getenv('FOOTBALLDATA_TOKEN') }\n",
    "    params = { 'season': 2025 }\n",
    "    api_url = 'https://api.football-data.org/v4/competitions/PD/matches?status=FINISHED'\n",
    "\n",
    "    try:\n",
    "        resp = requests.get(api_url, headers=headers, params=params)\n",
    "        resp.raise_for_status()\n",
    "\n",
    "        matches_json = resp.json()\n",
    "        for match in matches_json['matches']:\n",
    "            match['homeTeam_id'] = match['homeTeam']['id']\n",
    "            match.pop('homeTeam')\n",
    "            match['awayTeam_id'] = match['awayTeam']['id']\n",
    "            match.pop('awayTeam')\n",
    "\n",
    "        with open('/Volumes/workspace/default/kickoff_volume/matches.json', 'w') as f:\n",
    "            json.dump(matches_json, f)\n",
    "    except:\n",
    "        print(f'An error ocurred during the FootballDataORG petition')\n",
    "        raise\n",
    "\n",
    "fetch_matches()"
   ]
  },
  {
   "cell_type": "code",
   "execution_count": 0,
   "metadata": {
    "application/vnd.databricks.v1+cell": {
     "cellMetadata": {
      "byteLimit": 2048000,
      "rowLimit": 10000
     },
     "inputWidgets": {},
     "nuid": "1c5f0337-e68f-46a6-ab15-ddaa422e9e9d",
     "showTitle": true,
     "tableResultSettingsMap": {},
     "title": "Declare Schemas"
    }
   },
   "outputs": [],
   "source": [
    "from pyspark.sql.types import StructType, StructField, StringType, LongType, ArrayType\n",
    "\n",
    "competition_schema = StructType([\n",
    "    StructField(\"code\", StringType(), True),\n",
    "    StructField(\"emblem\", StringType(), True),\n",
    "    StructField(\"id\", LongType(), True),\n",
    "    StructField(\"name\", StringType(), True),\n",
    "    StructField(\"type\", StringType(), True)\n",
    "])\n",
    "\n",
    "filters_schema = StructType([\n",
    "    StructField(\"season\", LongType(), True),\n",
    "    StructField(\"status\", ArrayType(StringType()), True)\n",
    "])\n",
    "\n",
    "area_schema = StructType([\n",
    "    StructField(\"code\", StringType(), True),\n",
    "    StructField(\"flag\", StringType(), True),\n",
    "    StructField(\"id\", LongType(), True),\n",
    "    StructField(\"name\", StringType(), True)\n",
    "])\n",
    "\n",
    "referee_schema = StructType([\n",
    "    StructField(\"id\", LongType(), True),\n",
    "    StructField(\"name\", StringType(), True),\n",
    "    StructField(\"nationality\", StringType(), True),\n",
    "    StructField(\"type\", StringType(), True)\n",
    "])\n",
    "\n",
    "score_substruct = StructType([\n",
    "    StructField(\"away\", LongType(), True),\n",
    "    StructField(\"home\", LongType(), True)\n",
    "])\n",
    "\n",
    "score_schema = StructType([\n",
    "    StructField(\"duration\", StringType(), True),\n",
    "    StructField(\"fullTime\", score_substruct, True),\n",
    "    StructField(\"halfTime\", score_substruct, True),\n",
    "    StructField(\"winner\", StringType(), True)\n",
    "])\n",
    "\n",
    "match_season_schema = StructType([\n",
    "    StructField(\"currentMatchday\", LongType(), True),\n",
    "    StructField(\"endDate\", StringType(), True),\n",
    "    StructField(\"id\", LongType(), True),\n",
    "    StructField(\"startDate\", StringType(), True),\n",
    "    StructField(\"winner\", StringType(), True)\n",
    "])\n",
    "\n",
    "match_schema = StructType([\n",
    "    StructField(\"area\", area_schema, True),\n",
    "    StructField(\"awayTeam_id\", LongType(), True),\n",
    "    StructField(\"competition\", competition_schema, True),\n",
    "    StructField(\"group\", StringType(), True),\n",
    "    StructField(\"homeTeam_id\", LongType(), True),\n",
    "    StructField(\"id\", LongType(), True),\n",
    "    StructField(\"lastUpdated\", StringType(), True),\n",
    "    StructField(\"matchday\", LongType(), True),\n",
    "    StructField(\"odds\", StructType([StructField(\"msg\", StringType(), True)]), True),\n",
    "    StructField(\"referees\", ArrayType(referee_schema), True),\n",
    "    StructField(\"score\", score_schema, True),\n",
    "    StructField(\"season\", match_season_schema, True),\n",
    "    StructField(\"stage\", StringType(), True),\n",
    "    StructField(\"status\", StringType(), True),\n",
    "    StructField(\"utcDate\", StringType(), True)\n",
    "])\n",
    "\n",
    "result_set_schema = StructType([\n",
    "    StructField(\"count\", LongType(), True),\n",
    "    StructField(\"first\", StringType(), True),\n",
    "    StructField(\"last\", StringType(), True),\n",
    "    StructField(\"played\", LongType(), True)\n",
    "])\n",
    "\n",
    "root_schema = StructType([\n",
    "    StructField(\"competition\", competition_schema, True),\n",
    "    StructField(\"filters\", filters_schema, True),\n",
    "    StructField(\"matches\", ArrayType(match_schema), True),\n",
    "    StructField(\"resultSet\", result_set_schema, True)\n",
    "])"
   ]
  },
  {
   "cell_type": "code",
   "execution_count": 0,
   "metadata": {
    "application/vnd.databricks.v1+cell": {
     "cellMetadata": {
      "byteLimit": 2048000,
      "rowLimit": 10000
     },
     "inputWidgets": {},
     "nuid": "4ed8a365-e337-45e7-9b4d-6b234310dd5f",
     "showTitle": true,
     "tableResultSettingsMap": {},
     "title": "Read json matches"
    }
   },
   "outputs": [],
   "source": [
    "df_bronze = (\n",
    "    spark\n",
    "    .read\n",
    "    .format('json')\n",
    "    .schema(root_schema)\n",
    "    .load('/Volumes/workspace/default/kickoff_volume/matches.json')\n",
    ")\n",
    "\n",
    "df_bronze.printSchema()\n",
    "display(df_bronze.limit(10))"
   ]
  },
  {
   "cell_type": "code",
   "execution_count": 0,
   "metadata": {
    "application/vnd.databricks.v1+cell": {
     "cellMetadata": {
      "byteLimit": 2048000,
      "rowLimit": 10000
     },
     "inputWidgets": {},
     "nuid": "178cfcee-ad61-41e6-a64c-67be09dded49",
     "showTitle": true,
     "tableResultSettingsMap": {},
     "title": "Save raw_matches DataFrame"
    }
   },
   "outputs": [],
   "source": [
    "df_bronze.write.mode('overwrite').option('overwriteSchema', 'true').saveAsTable('raw_matches')"
   ]
  }
 ],
 "metadata": {
  "application/vnd.databricks.v1+notebook": {
   "computePreferences": null,
   "dashboards": [],
   "environmentMetadata": {
    "base_environment": "",
    "environment_version": "3"
   },
   "inputWidgetPreferences": null,
   "language": "python",
   "notebookMetadata": {
    "pythonIndentUnit": 4
   },
   "notebookName": "bronze_matches",
   "widgets": {}
  },
  "language_info": {
   "name": "python"
  }
 },
 "nbformat": 4,
 "nbformat_minor": 0
}
