{
 "cells": [
  {
   "cell_type": "code",
   "execution_count": 0,
   "metadata": {
    "application/vnd.databricks.v1+cell": {
     "cellMetadata": {
      "byteLimit": 2048000,
      "rowLimit": 10000
     },
     "inputWidgets": {},
     "nuid": "94e0fa30-198d-4136-a26b-cf4e068c54f4",
     "showTitle": false,
     "tableResultSettingsMap": {},
     "title": ""
    }
   },
   "outputs": [],
   "source": [
    "stg_matches_df = spark.table('default.stg_matches')\n",
    "stg_teams_df = spark.table('default.stg_teams')"
   ]
  },
  {
   "cell_type": "code",
   "execution_count": 0,
   "metadata": {
    "application/vnd.databricks.v1+cell": {
     "cellMetadata": {
      "byteLimit": 2048000,
      "rowLimit": 10000
     },
     "inputWidgets": {},
     "nuid": "ece215da-425c-4982-81f3-db4345c4a969",
     "showTitle": true,
     "tableResultSettingsMap": {
      "0": {
       "dataGridStateBlob": "{\"version\":1,\"tableState\":{\"columnPinning\":{\"left\":[\"#row_number#\"],\"right\":[]},\"columnSizing\":{},\"columnVisibility\":{}},\"settings\":{\"columns\":{\"home_crest\":{\"format\":{\"preset\":\"string-preset-url\"}},\"away_crest\":{\"format\":{\"preset\":\"string-preset-url\"}}}},\"syncTimestamp\":1759159792700}",
       "filterBlob": null,
       "queryPlanFiltersBlob": null,
       "tableResultIndex": 0
      }
     },
     "title": "Create a One Big Table"
    }
   },
   "outputs": [],
   "source": [
    "from pyspark.sql import DataFrame\n",
    "import pyspark.sql.functions as F\n",
    "\n",
    "def matches_teams_OBT(stg_matches_df: DataFrame, stg_teams_df: DataFrame) -> DataFrame:\n",
    "    home_cols_prefixed = {c: 'home_' + c for c in stg_teams_df.columns}\n",
    "    marts_home_teams_df = (\n",
    "        stg_matches_df\n",
    "        .join(\n",
    "            other=stg_teams_df\n",
    "                .withColumnsRenamed(home_cols_prefixed),\n",
    "            on=['home_team_id'],\n",
    "            how='left'\n",
    "        )\n",
    "    )\n",
    "\n",
    "    away_cols_prefixed = {c: 'away_' + c for c in stg_teams_df.columns}\n",
    "    marts_all_teams_df = (\n",
    "        marts_home_teams_df\n",
    "        .join(\n",
    "            other=stg_teams_df\n",
    "                .withColumnsRenamed(away_cols_prefixed),\n",
    "            on=['away_team_id'],\n",
    "            how='left'\n",
    "        )\n",
    "    )\n",
    "\n",
    "    return marts_all_teams_df\n",
    "\n",
    "marts_matches_teams_df = matches_teams_OBT(stg_matches_df, stg_teams_df)\n",
    "display(marts_matches_teams_df.limit(3))\n"
   ]
  },
  {
   "cell_type": "code",
   "execution_count": 0,
   "metadata": {
    "application/vnd.databricks.v1+cell": {
     "cellMetadata": {
      "byteLimit": 2048000,
      "rowLimit": 10000
     },
     "inputWidgets": {},
     "nuid": "eaffe24e-fa89-4cd4-9df2-5048ec591c57",
     "showTitle": true,
     "tableResultSettingsMap": {
      "0": {
       "dataGridStateBlob": "{\"version\":1,\"tableState\":{\"columnPinning\":{\"left\":[\"#row_number#\"],\"right\":[]},\"columnSizing\":{},\"columnVisibility\":{}},\"settings\":{\"columns\":{\"home_crest\":{\"format\":{\"preset\":\"string-preset-url\"}},\"away_crest\":{\"format\":{\"preset\":\"string-preset-url\"}}}},\"syncTimestamp\":1759161181742}",
       "filterBlob": null,
       "queryPlanFiltersBlob": null,
       "tableResultIndex": 0
      }
     },
     "title": "Add winner_name column"
    }
   },
   "outputs": [],
   "source": [
    "def replace_match_winners(marts_matches_teams_df: DataFrame) -> DataFrame:\n",
    "    return (\n",
    "        marts_matches_teams_df.withColumn('winner_name',\n",
    "            F.when(marts_matches_teams_df.winner == 'HOME_TEAM', marts_matches_teams_df.home_team_name) \\\n",
    "            .when(marts_matches_teams_df.winner == 'AWAY_TEAM', marts_matches_teams_df.home_team_name) \\\n",
    "            .otherwise(None))\n",
    "    )\n",
    "\n",
    "marts_matches_teams_df = replace_match_winners(marts_matches_teams_df)\n",
    "display(marts_matches_teams_df.limit(3))"
   ]
  },
  {
   "cell_type": "code",
   "execution_count": 0,
   "metadata": {
    "application/vnd.databricks.v1+cell": {
     "cellMetadata": {
      "byteLimit": 2048000,
      "rowLimit": 10000
     },
     "inputWidgets": {},
     "nuid": "2bd0b8d1-7f51-49e6-b16b-ad36753d11a0",
     "showTitle": true,
     "tableResultSettingsMap": {},
     "title": "Save gold_matches_teams table"
    }
   },
   "outputs": [],
   "source": [
    "marts_matches_teams_df.write.mode('overwrite').saveAsTable('marts_matches_teams')"
   ]
  }
 ],
 "metadata": {
  "application/vnd.databricks.v1+notebook": {
   "computePreferences": null,
   "dashboards": [],
   "environmentMetadata": {
    "base_environment": "",
    "environment_version": "3"
   },
   "inputWidgetPreferences": null,
   "language": "python",
   "notebookMetadata": {
    "pythonIndentUnit": 4
   },
   "notebookName": "gold_matches_teams",
   "widgets": {}
  },
  "language_info": {
   "name": "python"
  }
 },
 "nbformat": 4,
 "nbformat_minor": 0
}
