{
 "cells": [
  {
   "cell_type": "code",
   "execution_count": 0,
   "metadata": {
    "application/vnd.databricks.v1+cell": {
     "cellMetadata": {
      "byteLimit": 2048000,
      "rowLimit": 10000
     },
     "inputWidgets": {},
     "nuid": "3ddcb0cb-9184-4e33-a275-2a85b32ba283",
     "showTitle": false,
     "tableResultSettingsMap": {},
     "title": ""
    }
   },
   "outputs": [],
   "source": [
    "%pip install python-dotenv"
   ]
  },
  {
   "cell_type": "code",
   "execution_count": 0,
   "metadata": {
    "application/vnd.databricks.v1+cell": {
     "cellMetadata": {
      "byteLimit": 2048000,
      "rowLimit": 10000
     },
     "inputWidgets": {},
     "nuid": "8887122e-6e32-4bad-a37f-c9f52d23f1bf",
     "showTitle": false,
     "tableResultSettingsMap": {},
     "title": ""
    }
   },
   "outputs": [],
   "source": [
    "dbutils.library.restartPython()"
   ]
  },
  {
   "cell_type": "code",
   "execution_count": 0,
   "metadata": {
    "application/vnd.databricks.v1+cell": {
     "cellMetadata": {
      "byteLimit": 2048000,
      "rowLimit": 10000
     },
     "inputWidgets": {},
     "nuid": "6d7e61a5-3c30-49d8-b383-c4c61f908353",
     "showTitle": true,
     "tableResultSettingsMap": {},
     "title": "Fetch API"
    }
   },
   "outputs": [],
   "source": [
    "from dotenv import load_dotenv\n",
    "import os\n",
    "import requests\n",
    "import json\n",
    "\n",
    "def fetch_teams():\n",
    "    load_dotenv('../.env')\n",
    "\n",
    "    headers = { 'X-Auth-Token': os.getenv('FOOTBALLDATA_TOKEN') }\n",
    "    params = { 'season': 2025 }\n",
    "    api_url = 'https://api.football-data.org/v4/competitions/PD/teams'\n",
    "\n",
    "    try:\n",
    "        resp = requests.get(api_url, headers=headers, params=params)\n",
    "        resp.raise_for_status()\n",
    "\n",
    "        with open('/Volumes/workspace/default/kickoff_volume/teams.json', 'w') as f:\n",
    "            json.dump(resp.json(), f)\n",
    "    except:\n",
    "        print(f'An error ocurred during the FootballDataORG petition')\n",
    "        raise\n",
    "\n",
    "fetch_teams()"
   ]
  },
  {
   "cell_type": "code",
   "execution_count": 0,
   "metadata": {
    "application/vnd.databricks.v1+cell": {
     "cellMetadata": {
      "byteLimit": 2048000,
      "rowLimit": 10000
     },
     "inputWidgets": {},
     "nuid": "9b567ad1-e6dd-499b-a7bf-dc7c3492d0b4",
     "showTitle": true,
     "tableResultSettingsMap": {},
     "title": "Declare Schemas"
    }
   },
   "outputs": [],
   "source": [
    "from pyspark.sql.types import StructType, StructField, StringType, LongType, ArrayType\n",
    "\n",
    "competition_schema = StructType([\n",
    "    StructField(\"code\", StringType(), True),\n",
    "    StructField(\"emblem\", StringType(), True),\n",
    "    StructField(\"id\", LongType(), True),\n",
    "    StructField(\"name\", StringType(), True),\n",
    "    StructField(\"type\", StringType(), True),\n",
    "])\n",
    "\n",
    "filters_schema = StructType([\n",
    "    StructField(\"season\", LongType(), True),\n",
    "])\n",
    "\n",
    "season_schema = StructType([\n",
    "    StructField(\"currentMatchday\", LongType(), True),\n",
    "    StructField(\"endDate\", StringType(), True),\n",
    "    StructField(\"id\", LongType(), True),\n",
    "    StructField(\"startDate\", StringType(), True),\n",
    "    StructField(\"winner\", StringType(), True),\n",
    "])\n",
    "\n",
    "area_schema = StructType([\n",
    "    StructField(\"code\", StringType(), True),\n",
    "    StructField(\"flag\", StringType(), True),\n",
    "    StructField(\"id\", LongType(), True),\n",
    "    StructField(\"name\", StringType(), True),\n",
    "])\n",
    "\n",
    "contract_schema = StructType([\n",
    "    StructField(\"start\", StringType(), True),\n",
    "    StructField(\"until\", StringType(), True),\n",
    "])\n",
    "\n",
    "coach_schema = StructType([\n",
    "    StructField(\"contract\", contract_schema, True),\n",
    "    StructField(\"dateOfBirth\", StringType(), True),\n",
    "    StructField(\"firstName\", StringType(), True),\n",
    "    StructField(\"id\", LongType(), True),\n",
    "    StructField(\"lastName\", StringType(), True),\n",
    "    StructField(\"name\", StringType(), True),\n",
    "    StructField(\"nationality\", StringType(), True),\n",
    "])\n",
    "\n",
    "running_comp_schema = StructType([\n",
    "    StructField(\"code\", StringType(), True),\n",
    "    StructField(\"emblem\", StringType(), True),\n",
    "    StructField(\"id\", LongType(), True),\n",
    "    StructField(\"name\", StringType(), True),\n",
    "    StructField(\"type\", StringType(), True),\n",
    "])\n",
    "\n",
    "squad_schema = StructType([\n",
    "    StructField(\"dateOfBirth\", StringType(), True),\n",
    "    StructField(\"id\", LongType(), True),\n",
    "    StructField(\"name\", StringType(), True),\n",
    "    StructField(\"nationality\", StringType(), True),\n",
    "    StructField(\"position\", StringType(), True),\n",
    "])\n",
    "\n",
    "team_schema = StructType([\n",
    "    StructField(\"address\", StringType(), True),\n",
    "    StructField(\"area\", area_schema, True),\n",
    "    StructField(\"clubColors\", StringType(), True),\n",
    "    StructField(\"coach\", coach_schema, True),\n",
    "    StructField(\"crest\", StringType(), True),\n",
    "    StructField(\"founded\", LongType(), True),\n",
    "    StructField(\"id\", LongType(), True),\n",
    "    StructField(\"lastUpdated\", StringType(), True),\n",
    "    StructField(\"name\", StringType(), True),\n",
    "    StructField(\"runningCompetitions\", ArrayType(running_comp_schema), True),\n",
    "    StructField(\"shortName\", StringType(), True),\n",
    "    StructField(\"squad\", ArrayType(squad_schema), True),\n",
    "    StructField(\"staff\", ArrayType(StringType()), True),\n",
    "    StructField(\"tla\", StringType(), True),\n",
    "    StructField(\"venue\", StringType(), True),\n",
    "    StructField(\"website\", StringType(), True),\n",
    "])\n",
    "\n",
    "root_schema = StructType([\n",
    "    StructField(\"competition\", competition_schema, True),\n",
    "    StructField(\"count\", LongType(), True),\n",
    "    StructField(\"filters\", filters_schema, True),\n",
    "    StructField(\"season\", season_schema, True),\n",
    "    StructField(\"teams\", ArrayType(team_schema), True),\n",
    "])\n"
   ]
  },
  {
   "cell_type": "code",
   "execution_count": 0,
   "metadata": {
    "application/vnd.databricks.v1+cell": {
     "cellMetadata": {
      "byteLimit": 2048000,
      "rowLimit": 10000
     },
     "inputWidgets": {},
     "nuid": "fd13924e-8693-4355-9e8b-bcc51d4fddef",
     "showTitle": true,
     "tableResultSettingsMap": {},
     "title": "Read json teams"
    }
   },
   "outputs": [],
   "source": [
    "df_bronze = (\n",
    "    spark\n",
    "    .read\n",
    "    .format('json')\n",
    "    .option('multiLine', 'true')\n",
    "    .schema(root_schema)\n",
    "    .load('/Volumes/workspace/default/kickoff_volume/teams.json')\n",
    ")\n",
    "\n",
    "df_bronze.printSchema()\n",
    "display(df_bronze.limit(10))"
   ]
  },
  {
   "cell_type": "code",
   "execution_count": 0,
   "metadata": {
    "application/vnd.databricks.v1+cell": {
     "cellMetadata": {
      "byteLimit": 2048000,
      "rowLimit": 10000
     },
     "inputWidgets": {},
     "nuid": "3562d4ef-46ad-4581-be57-97dc14d7d6ef",
     "showTitle": true,
     "tableResultSettingsMap": {},
     "title": "Save raw_teams DataFrame"
    }
   },
   "outputs": [],
   "source": [
    "df_bronze.write.mode('overwrite').option('overwriteSchema', 'true').saveAsTable('raw_teams')"
   ]
  }
 ],
 "metadata": {
  "application/vnd.databricks.v1+notebook": {
   "computePreferences": null,
   "dashboards": [],
   "environmentMetadata": {
    "base_environment": "",
    "environment_version": "3"
   },
   "inputWidgetPreferences": null,
   "language": "python",
   "notebookMetadata": {
    "pythonIndentUnit": 4
   },
   "notebookName": "bronze_teams",
   "widgets": {}
  },
  "language_info": {
   "name": "python"
  }
 },
 "nbformat": 4,
 "nbformat_minor": 0
}
